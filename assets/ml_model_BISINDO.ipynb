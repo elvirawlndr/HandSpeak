{
  "cells": [
    {
      "cell_type": "markdown",
      "metadata": {
        "id": "LPjChfEaMTMl"
      },
      "source": [
        "# Import Libary"
      ]
    },
    {
      "cell_type": "code",
      "execution_count": null,
      "metadata": {
        "id": "yWORykGGjFTZ"
      },
      "outputs": [],
      "source": [
        "import os\n",
        "import tensorflow as tf\n",
        "import numpy as np\n",
        "import matplotlib.pyplot as plt\n",
        "import sklearn\n",
        "import shutil\n",
        "from tensorflow.keras import layers\n",
        "from tensorflow.keras.models import Sequential\n",
        "from tensorflow.keras.preprocessing.image import ImageDataGenerator\n",
        "from tensorflow.keras.applications import VGG16, MobileNetV2, ResNet50\n",
        "from google.colab import files"
      ]
    },
    {
      "cell_type": "code",
      "execution_count": null,
      "metadata": {
        "colab": {
          "base_uri": "https://localhost:8080/"
        },
        "id": "-OBJdzmrNxcb",
        "outputId": "26b07f26-6b08-4729-d5e6-806f9b0eef90"
      },
      "outputs": [],
      "source": [
        "!pip install opendatasets\n",
        "import opendatasets as od"
      ]
    },
    {
      "cell_type": "markdown",
      "metadata": {
        "id": "yBN7RniJNUy7"
      },
      "source": [
        "# Load Dataset"
      ]
    },
    {
      "cell_type": "code",
      "execution_count": null,
      "metadata": {
        "colab": {
          "base_uri": "https://localhost:8080/"
        },
        "id": "kEwMYM13NTLG",
        "outputId": "01d24c82-f0e0-4273-83ce-8d0142a4d361"
      },
      "outputs": [],
      "source": [
        "#donwload dataset menggunakan url kaggle\n",
        "# needs: kaggle API (goto: 'https://www.kaggle.com/me/account')\n",
        "od.download(\"https://www.kaggle.com/datasets/achmadnoer/alfabet-bisindo\")"
      ]
    },
    {
      "cell_type": "code",
      "execution_count": null,
      "metadata": {
        "colab": {
          "base_uri": "https://localhost:8080/",
          "height": 884
        },
        "id": "hWpPU3wtNbf5",
        "outputId": "df78d9df-e109-4eb6-a28a-033cf411f75b"
      },
      "outputs": [],
      "source": [
        "data_dir = \"alfabet-bisindo/Citra BISINDO\"\n",
        "\n",
        "# Memuat dataset\n",
        "batch_size = 32\n",
        "img_height = 224\n",
        "img_width = 224\n",
        "\n",
        "# Membuat objek ImageDataGenerator untuk training dan validation\n",
        "train_datagen = ImageDataGenerator(\n",
        "    rescale=1./255,\n",
        "    validation_split=0.2,\n",
        "    rotation_range=40,\n",
        "    width_shift_range=0.2,\n",
        "    height_shift_range=0.2,\n",
        "    shear_range=0.2,\n",
        "    zoom_range=0.2,\n",
        "    horizontal_flip=True,\n",
        "    brightness_range=[0.2, 1.0],\n",
        "    channel_shift_range=0.2,\n",
        "    fill_mode='nearest'\n",
        ")\n",
        "\n",
        "val_datagen = ImageDataGenerator(rescale=1./255, validation_split=0.2)\n",
        "\n",
        "train_generator = train_datagen.flow_from_directory(\n",
        "    data_dir,\n",
        "    target_size=(img_height, img_width),\n",
        "    batch_size=batch_size,\n",
        "    class_mode='sparse',\n",
        "    subset='training'\n",
        ")\n",
        "\n",
        "validation_generator = val_datagen.flow_from_directory(\n",
        "    data_dir,\n",
        "    target_size=(img_height, img_width),\n",
        "    batch_size=batch_size,\n",
        "    class_mode='sparse',\n",
        "    subset='validation'\n",
        ")\n",
        "\n",
        "class_names = list(train_generator.class_indices.keys())\n",
        "print(class_names)\n",
        "\n",
        "# Visualisasi dataset\n",
        "plt.figure(figsize=(10, 10))\n",
        "for images, labels in train_generator:\n",
        "    for i in range(9):\n",
        "        ax = plt.subplot(3, 3, i + 1)\n",
        "        plt.imshow(images[i])\n",
        "        plt.title(list(train_generator.class_indices.keys())[int(labels[i])])\n",
        "        plt.axis(\"off\")\n",
        "    break\n",
        "plt.show()"
      ]
    },
    {
      "cell_type": "markdown",
      "metadata": {
        "id": "B7Fi4SZ2QZ3w"
      },
      "source": [
        "# Model"
      ]
    },
    {
      "cell_type": "code",
      "execution_count": null,
      "metadata": {
        "colab": {
          "base_uri": "https://localhost:8080/"
        },
        "id": "3A6wVtRJY-EV",
        "outputId": "990f5b70-885b-4040-f253-d02e484a22ec"
      },
      "outputs": [],
      "source": [
        "# return len class\n",
        "num_classes = len(class_names)"
      ]
    },
    {
      "cell_type": "markdown",
      "metadata": {
        "id": "rk31xeP4Y-z6"
      },
      "source": [
        "## model 1"
      ]
    },
    {
      "cell_type": "code",
      "execution_count": null,
      "metadata": {
        "id": "IxQaIiMmY85k"
      },
      "outputs": [],
      "source": [
        "model = Sequential([\n",
        "\n",
        "    layers.Conv2D(32, (3, 3), activation='relu', input_shape=(img_height, img_width, 3)), #input RGB\n",
        "    layers.MaxPooling2D(),\n",
        "    layers.Conv2D(64, (3, 3), activation='relu'),\n",
        "    layers.MaxPooling2D(),\n",
        "    layers.Conv2D(128, (3, 3), activation='relu'),\n",
        "    layers.MaxPooling2D(),\n",
        "    layers.Flatten(),\n",
        "    layers.Dense(128, activation='relu'),\n",
        "    layers.Dense(num_classes, activation='softmax')\n",
        "])"
      ]
    },
    {
      "cell_type": "markdown",
      "metadata": {
        "id": "v-drg_sxZVM9"
      },
      "source": [
        "## model 2"
      ]
    },
    {
      "cell_type": "code",
      "execution_count": null,
      "metadata": {
        "id": "sfo8i66LZafS"
      },
      "outputs": [],
      "source": [
        "model = Sequential([\n",
        "\n",
        "    tf.keras.layers.Conv2D(32, (3, 3), activation='relu', input_shape=(img_height, img_width, 3)),  # input RGB\n",
        "    tf.keras.layers.BatchNormalization(),\n",
        "    tf.keras.layers.MaxPooling2D(pool_size=(2, 2)),\n",
        "\n",
        "    tf.keras.layers.Conv2D(64, (3, 3), activation='relu'),\n",
        "    tf.keras.layers.BatchNormalization(),\n",
        "    tf.keras.layers.MaxPooling2D(pool_size=(2, 2)),\n",
        "\n",
        "    tf.keras.layers.Conv2D(128, (3, 3), activation='relu'),\n",
        "    tf.keras.layers.BatchNormalization(),\n",
        "    tf.keras.layers.MaxPooling2D(pool_size=(2, 2)),\n",
        "\n",
        "    tf.keras.layers.Flatten(),\n",
        "\n",
        "    tf.keras.layers.Dense(512, activation='relu'),\n",
        "    tf.keras.layers.Dense(256, activation='relu'),\n",
        "    tf.keras.layers.Dense(128, activation='relu'),\n",
        "    tf.keras.layers.Dense(num_classes, activation='softmax')\n",
        "\n",
        "])"
      ]
    },
    {
      "cell_type": "markdown",
      "metadata": {
        "id": "TO0G3rHIZs4k"
      },
      "source": [
        "## Model 3 dengan menggunakan VGG16"
      ]
    },
    {
      "cell_type": "code",
      "execution_count": null,
      "metadata": {
        "id": "RUvW19BUQY6X"
      },
      "outputs": [],
      "source": [
        "base_model = VGG16(input_shape=(img_height, img_width, 3), include_top=False, weights='imagenet')\n",
        "\n",
        "# trainable beberapa lapisan terakhir dari VGG16 untuk fine-tuning\n",
        "base_model.trainable = True\n",
        "for layer in base_model.layers[:-4]:  # frezee semua lapisan kecuali 4 lapisan terakhir\n",
        "    layer.trainable = False\n",
        "\n",
        "model = Sequential([\n",
        "    base_model,\n",
        "    layers.Flatten(),\n",
        "    layers.Dense(1072, activation='relu'),\n",
        "    layers.Dense(512, activation='relu'),\n",
        "    layers.Dropout(0.5),\n",
        "    layers.Dense(len(class_names), activation='softmax')\n",
        "])\n"
      ]
    },
    {
      "cell_type": "markdown",
      "metadata": {
        "id": "x3rRdFfoZ32N"
      },
      "source": [
        "## Model 4 dengan menggunakan MobileNetV2"
      ]
    },
    {
      "cell_type": "code",
      "execution_count": null,
      "metadata": {
        "id": "r0A-fTbLZ-IY"
      },
      "outputs": [],
      "source": [
        "# load model MobileNetV2 tanpa lapisan top (fully connected layers)\n",
        "base_model = MobileNetV2(input_shape=(img_height, img_width, 3), include_top=False, weights='imagenet')\n",
        "base_model.trainable = True  # false: freeze layer base model\n",
        "\n",
        "model = Sequential([\n",
        "    base_model,\n",
        "    layers.GlobalAveragePooling2D(),\n",
        "    layers.Dense(128, activation='relu'),\n",
        "    layers.Dropout(0.5),\n",
        "    layers.Dense(len(train_generator.class_indices), activation='softmax')\n",
        "])"
      ]
    },
    {
      "cell_type": "markdown",
      "metadata": {
        "id": "jdHj8hPIjkDL"
      },
      "source": [
        "## Model 5 dengan menggunakan ResNet50"
      ]
    },
    {
      "cell_type": "code",
      "execution_count": null,
      "metadata": {
        "id": "26oOj3ssjo5o"
      },
      "outputs": [],
      "source": [
        "base_model = ResNet50(input_shape=(img_height, img_width, 3), include_top=False, weights='imagenet')\n",
        "base_model.trainable = False\n",
        "\n",
        "model = Sequential([\n",
        "    base_model,\n",
        "    layers.GlobalAveragePooling2D(),\n",
        "    layers.Dense(512, activation='relu'),\n",
        "    layers.Dropout(0.5),\n",
        "    layers.Dense(len(class_names), activation='softmax')\n",
        "])"
      ]
    },
    {
      "cell_type": "markdown",
      "metadata": {
        "id": "_GGt4yt3Z0OG"
      },
      "source": [
        "## Compile Model"
      ]
    },
    {
      "cell_type": "code",
      "execution_count": null,
      "metadata": {
        "colab": {
          "base_uri": "https://localhost:8080/"
        },
        "id": "kjNkwq7PZxlU",
        "outputId": "7747fff1-e1ed-456b-f919-e45975b1c2c5"
      },
      "outputs": [],
      "source": [
        "# compile model\n",
        "model.compile(\n",
        "    optimizer= tf.keras.optimizers.Adam(1e-4),\n",
        "    loss='sparse_categorical_crossentropy',\n",
        "    metrics=['accuracy']\n",
        ")\n",
        "\n",
        "model.summary()"
      ]
    },
    {
      "cell_type": "code",
      "execution_count": null,
      "metadata": {
        "id": "KdNhfnkPWhis"
      },
      "outputs": [],
      "source": [
        "# fungsi callbacks\n",
        "early_stopping = tf.keras.callbacks.EarlyStopping(\n",
        "    monitor='val_loss',\n",
        "    patience=10,\n",
        "    restore_best_weights=True\n",
        ")\n",
        "\n",
        "lr_scheduler = tf.keras.callbacks.ReduceLROnPlateau(\n",
        "    monitor='val_loss',\n",
        "    factor=0.5,\n",
        "    patience=5,\n",
        "    verbose=1\n",
        ")"
      ]
    },
    {
      "cell_type": "code",
      "execution_count": null,
      "metadata": {
        "colab": {
          "base_uri": "https://localhost:8080/"
        },
        "id": "JLwuWQu5Qejp",
        "outputId": "fa846170-e19b-4b2a-a1cd-02f90929fb11"
      },
      "outputs": [],
      "source": [
        "history = model.fit(\n",
        "    train_generator,\n",
        "    validation_data=validation_generator,\n",
        "    epochs=50,\n",
        "    callbacks= [early_stopping, lr_scheduler]\n",
        ")\n"
      ]
    },
    {
      "cell_type": "code",
      "execution_count": null,
      "metadata": {
        "colab": {
          "base_uri": "https://localhost:8080/",
          "height": 927
        },
        "id": "Y3WF6GI5WmzJ",
        "outputId": "e69d7baa-05c4-435e-e5fa-4c7ff3bf0467"
      },
      "outputs": [],
      "source": [
        "# Plot training and validation loss\n",
        "plt.plot(history.history['loss'], label='Training Loss')\n",
        "plt.plot(history.history['val_loss'], label='Validation Loss')\n",
        "plt.title('Training and Validation Loss')\n",
        "plt.xlabel('Epoch')\n",
        "plt.ylabel('Loss')\n",
        "plt.legend()\n",
        "plt.show()\n",
        "\n",
        "# Plot training and validation accuracy\n",
        "plt.plot(history.history['accuracy'], label='Training Accuracy')\n",
        "plt.plot(history.history['val_accuracy'], label='Validation Accuracy')\n",
        "plt.title('Training and Validation Accuracy')\n",
        "plt.xlabel('Epoch')\n",
        "plt.ylabel('Accuracy')\n",
        "plt.legend()\n",
        "plt.show()"
      ]
    },
    {
      "cell_type": "code",
      "execution_count": null,
      "metadata": {
        "id": "YjLdQU5uQg6J"
      },
      "outputs": [],
      "source": [
        "loss, accuracy = model.evaluate(validation_generator)\n",
        "print(f\"Validation accuracy: {accuracy}\")"
      ]
    },
    {
      "cell_type": "markdown",
      "metadata": {
        "id": "_DabSWkqbvar"
      },
      "source": [
        "# Convert model ke TensorFlow js dan TensorFlow Lite"
      ]
    },
    {
      "cell_type": "code",
      "execution_count": null,
      "metadata": {
        "id": "aVlYCsqub5fz"
      },
      "outputs": [],
      "source": [
        "#save model\n",
        "model.save('model')"
      ]
    },
    {
      "cell_type": "markdown",
      "metadata": {
        "id": "eT5g-BiLcLA6"
      },
      "source": [
        "## convert ke TensorFlow.js"
      ]
    },
    {
      "cell_type": "code",
      "execution_count": null,
      "metadata": {
        "colab": {
          "base_uri": "https://localhost:8080/",
          "height": 1000
        },
        "id": "ibUj-4Xa6eer",
        "outputId": "de2fb968-aee4-4ecf-9cfc-6db543176d9a"
      },
      "outputs": [],
      "source": [
        "pip install tensorflowjs"
      ]
    },
    {
      "cell_type": "code",
      "execution_count": null,
      "metadata": {
        "colab": {
          "base_uri": "https://localhost:8080/"
        },
        "id": "NDCcqK8ucQTi",
        "outputId": "482765ae-e466-4946-a2ae-b1deee72ea39"
      },
      "outputs": [],
      "source": [
        "!tensorflowjs_converter --input_format=tf_saved_model --output_format=tfjs_graph_model model model_BISINDO"
      ]
    },
    {
      "cell_type": "code",
      "execution_count": null,
      "metadata": {
        "colab": {
          "base_uri": "https://localhost:8080/"
        },
        "id": "X9nHpnRFoEwu",
        "outputId": "7b3f98d9-56b0-44c8-8488-77715b0bc6cb"
      },
      "outputs": [],
      "source": [
        "# Path ke direktori model TensorFlow.js\n",
        "tfjs_model_path = 'model_BISINDO'\n",
        "\n",
        "# Path untuk menyimpan file zip\n",
        "zip_file_path = 'model_BISINDO.zip'\n",
        "\n",
        "# Mengarsipkan direktori model ke file zip\n",
        "shutil.make_archive(base_name=zip_file_path.replace('.zip', ''), format='zip', root_dir=tfjs_model_path)\n",
        "\n",
        "print(f'Model has been zipped and saved to {zip_file_path}')"
      ]
    },
    {
      "cell_type": "code",
      "execution_count": null,
      "metadata": {
        "colab": {
          "base_uri": "https://localhost:8080/",
          "height": 17
        },
        "id": "YCZfWzQs61Oi",
        "outputId": "56e6e2fa-c7ca-4164-98e0-8c2a349f7e88"
      },
      "outputs": [],
      "source": [
        "files.download(zip_file_path)"
      ]
    },
    {
      "cell_type": "markdown",
      "metadata": {
        "id": "Tx-Yk0CGcSJX"
      },
      "source": [
        "## Convert ke TensorFlow Lite"
      ]
    },
    {
      "cell_type": "code",
      "execution_count": null,
      "metadata": {
        "id": "NFECbqmBcYPI"
      },
      "outputs": [],
      "source": [
        "# convert model ke TensorFlow Lite\n",
        "converter = tf.lite.TFLiteConverter.from_saved_model('model')\n",
        "tflite_model = converter.convert()\n",
        "\n",
        "# save model ke file .tflite\n",
        "with open('ml_model_BISINDO.tflite', 'wb') as f:\n",
        "    f.write(tflite_model)"
      ]
    },
    {
      "cell_type": "code",
      "execution_count": null,
      "metadata": {
        "colab": {
          "base_uri": "https://localhost:8080/",
          "height": 34
        },
        "id": "XzVFqWebowQ5",
        "outputId": "d1c2ceb3-b702-46d3-85be-24173eb41ece"
      },
      "outputs": [],
      "source": [
        "files.download('ml_model_BISINDO.tflite')"
      ]
    }
  ],
  "metadata": {
    "accelerator": "GPU",
    "colab": {
      "gpuType": "T4",
      "provenance": []
    },
    "kernelspec": {
      "display_name": "Python 3",
      "name": "python3"
    },
    "language_info": {
      "name": "python"
    }
  },
  "nbformat": 4,
  "nbformat_minor": 0
}
